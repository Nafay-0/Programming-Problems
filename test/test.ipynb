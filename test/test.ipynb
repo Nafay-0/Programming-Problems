{
 "cells": [
  {
   "cell_type": "code",
   "id": "initial_id",
   "metadata": {
    "collapsed": true,
    "jupyter": {
     "is_executing": true
    }
   },
   "source": [
    "def merge( nums1, m, nums2, n):\n",
    "    p1 = m-1\n",
    "    p2 = n-1\n",
    "    p = n + m -1\n",
    "    while(1):\n",
    "        if nums2[p2] > nums1[p1]:\n",
    "            nums1[p] = nums2[p2]\n",
    "            p2 = p2-1\n",
    "            p = p-1\n",
    "        if nums1[p1] > nums2[p2]:\n",
    "            nums1[p] = nums1[p1]\n",
    "            p1 = p1-1\n",
    "            p = p-1\n",
    "        \n",
    "        if p1 == 0 or p2 == 0:\n",
    "            break\n",
    "    while p1 != 0:\n",
    "        nums1[p] = nums1[p1]\n",
    "        p1 = p1-1\n",
    "        p = p-1\n",
    "\n",
    "    while p2 != 0:\n",
    "        nums1[p] = nums2[p2]\n",
    "        p2 = p2-1\n",
    "        p = p-1\n",
    "        \n",
    "    return nums1"
   ],
   "outputs": [],
   "execution_count": null
  },
  {
   "metadata": {},
   "cell_type": "code",
   "outputs": [],
   "execution_count": null,
   "source": [
    "nums1 = [1,2,3,0,0,0]\n",
    "nums2 = [2,5,6]\n",
    "m = 3\n",
    "n = 3\n",
    "merge(nums1,n,nums2,n)\n",
    "print(nums1)"
   ],
   "id": "b92d99c46f04e2e0"
  }
 ],
 "metadata": {
  "kernelspec": {
   "display_name": "Python 3",
   "language": "python",
   "name": "python3"
  },
  "language_info": {
   "codemirror_mode": {
    "name": "ipython",
    "version": 2
   },
   "file_extension": ".py",
   "mimetype": "text/x-python",
   "name": "python",
   "nbconvert_exporter": "python",
   "pygments_lexer": "ipython2",
   "version": "2.7.6"
  }
 },
 "nbformat": 4,
 "nbformat_minor": 5
}
